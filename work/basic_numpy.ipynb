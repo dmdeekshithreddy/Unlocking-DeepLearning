{
 "cells": [
  {
   "cell_type": "code",
   "execution_count": 2,
   "metadata": {},
   "outputs": [],
   "source": [
    "import numpy as np\n",
    "from numpy import ndarray"
   ]
  },
  {
   "cell_type": "code",
   "execution_count": 3,
   "metadata": {},
   "outputs": [
    {
     "name": "stdout",
     "output_type": "stream",
     "text": [
      "sum: [5 7 9]\n",
      "product: [ 4 10 18]\n"
     ]
    }
   ],
   "source": [
    "arr1_1d = np.array([1, 2, 3])\n",
    "arr2_1d = np.array([4, 5, 6])\n",
    "print(f\"sum: {arr1_1d + arr2_1d}\")\n",
    "print(f\"product: {arr1_1d * arr2_1d}\")"
   ]
  },
  {
   "cell_type": "code",
   "execution_count": 4,
   "metadata": {},
   "outputs": [
    {
     "data": {
      "text/plain": [
       "(3,)"
      ]
     },
     "execution_count": 4,
     "metadata": {},
     "output_type": "execute_result"
    }
   ],
   "source": [
    "arr1_1d.shape"
   ]
  },
  {
   "cell_type": "code",
   "execution_count": 5,
   "metadata": {},
   "outputs": [
    {
     "name": "stdout",
     "output_type": "stream",
     "text": [
      "(2, 3)\n",
      "sum along axis-0 i.e. row-wise: [5 7 9]\n",
      "sum along axis-1 i.e. column-wise: [ 6 15]\n"
     ]
    }
   ],
   "source": [
    "# sum along different axis\n",
    "arr3_2d = np.array([[1,2,3], \n",
    "                 [4,5,6]])\n",
    "print(arr3_2d.shape)\n",
    "print(f\"sum along axis-0 i.e. row-wise: {arr3_2d.sum(axis=0)}\")\n",
    "print(f\"sum along axis-1 i.e. column-wise: {arr3_2d.sum(axis=1)}\")"
   ]
  },
  {
   "cell_type": "code",
   "execution_count": 6,
   "metadata": {},
   "outputs": [],
   "source": [
    "# square function\n",
    "def sqr_of_ndarray(x: ndarray) -> ndarray:\n",
    "     return np.power(x, 2)"
   ]
  },
  {
   "cell_type": "code",
   "execution_count": 7,
   "metadata": {},
   "outputs": [],
   "source": [
    "# leaky relu\n",
    "def leaky_relu(a: float, x: ndarray) -> ndarray:\n",
    "    return np.maximum(a * x, x)"
   ]
  },
  {
   "cell_type": "code",
   "execution_count": 8,
   "metadata": {},
   "outputs": [
    {
     "name": "stdout",
     "output_type": "stream",
     "text": [
      "[1 2 3]\n",
      "[1 4 9]\n"
     ]
    }
   ],
   "source": [
    "print(arr1_1d)\n",
    "print(sqr_of_ndarray(arr1_1d))"
   ]
  },
  {
   "cell_type": "code",
   "execution_count": 9,
   "metadata": {},
   "outputs": [
    {
     "name": "stdout",
     "output_type": "stream",
     "text": [
      "[1 2 3]\n",
      "[1. 2. 3.]\n"
     ]
    }
   ],
   "source": [
    "print(arr1_1d)\n",
    "print(leaky_relu(0.01, arr1_1d))"
   ]
  },
  {
   "cell_type": "code",
   "execution_count": null,
   "metadata": {},
   "outputs": [],
   "source": []
  },
  {
   "cell_type": "code",
   "execution_count": null,
   "metadata": {},
   "outputs": [],
   "source": []
  }
 ],
 "metadata": {
  "kernelspec": {
   "display_name": "ml_basics",
   "language": "python",
   "name": "python3"
  },
  "language_info": {
   "codemirror_mode": {
    "name": "ipython",
    "version": 3
   },
   "file_extension": ".py",
   "mimetype": "text/x-python",
   "name": "python",
   "nbconvert_exporter": "python",
   "pygments_lexer": "ipython3",
   "version": "3.10.13"
  }
 },
 "nbformat": 4,
 "nbformat_minor": 2
}
