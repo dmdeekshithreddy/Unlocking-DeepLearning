{
 "cells": [
  {
   "cell_type": "code",
   "execution_count": 1,
   "metadata": {},
   "outputs": [],
   "source": [
    "import torch"
   ]
  },
  {
   "cell_type": "code",
   "execution_count": 3,
   "metadata": {},
   "outputs": [
    {
     "name": "stdout",
     "output_type": "stream",
     "text": [
      "tensor([[1., 2., 3.],\n",
      "        [4., 5., 6.]])\n"
     ]
    }
   ],
   "source": [
    "# all tensor elements have the same data type.\n",
    "list_x = [[1,2,3], [4,5,6]]\n",
    "x = torch.tensor(list_x, dtype=torch.float32)\n",
    "print(x)"
   ]
  },
  {
   "cell_type": "code",
   "execution_count": 5,
   "metadata": {},
   "outputs": [
    {
     "name": "stdout",
     "output_type": "stream",
     "text": [
      "tensor([[1, 2, 3],\n",
      "        [4, 5, 6]], dtype=torch.int32)\n"
     ]
    }
   ],
   "source": [
    "# Use the casting method to cast to a new data type\n",
    "x.int() # x remains a float32 after the cast\n",
    "x = x.int() # x changes to an int32 after the cast\n",
    "print(x)"
   ]
  },
  {
   "cell_type": "code",
   "execution_count": 6,
   "metadata": {},
   "outputs": [
    {
     "name": "stdout",
     "output_type": "stream",
     "text": [
      "tensor([[1., 2., 3.],\n",
      "        [4., 5., 6.]], dtype=torch.float64)\n"
     ]
    }
   ],
   "source": [
    "# Use the to() method to cast to a new type\n",
    "x = x.to(dtype=torch.float64)\n",
    "print(x)"
   ]
  },
  {
   "cell_type": "code",
   "execution_count": 8,
   "metadata": {},
   "outputs": [
    {
     "name": "stdout",
     "output_type": "stream",
     "text": [
      "tensor([[ 8., 10., 12.],\n",
      "        [14., 16., 18.]])\n",
      "torch.float32\n"
     ]
    }
   ],
   "source": [
    "# Python automatically converts data types during\n",
    "# operations\n",
    "a = torch.tensor(data=[[1,2,3], [4,5,6]], dtype=torch.int32)\n",
    "b = torch.tensor(data=[[7,8,9], [10,11,12]], dtype=torch.float32)\n",
    "c = a + b\n",
    "print(c)\n",
    "print(c.dtype)"
   ]
  },
  {
   "cell_type": "code",
   "execution_count": 9,
   "metadata": {},
   "outputs": [],
   "source": [
    "# To reduce space complexity, you may sometimes want to\n",
    "# reuse memory and overwrite tensor values using in-place\n",
    "# operations. To perform in-place operations, append the\n",
    "# underscore (_) postfix to the function name. For example,\n",
    "# the function y.add_(x) adds x to y, but the results will be\n",
    "# stored in y."
   ]
  },
  {
   "cell_type": "code",
   "execution_count": null,
   "metadata": {},
   "outputs": [],
   "source": []
  }
 ],
 "metadata": {
  "kernelspec": {
   "display_name": "deeplearning",
   "language": "python",
   "name": "python3"
  },
  "language_info": {
   "codemirror_mode": {
    "name": "ipython",
    "version": 3
   },
   "file_extension": ".py",
   "mimetype": "text/x-python",
   "name": "python",
   "nbconvert_exporter": "python",
   "pygments_lexer": "ipython3",
   "version": "3.11.5"
  }
 },
 "nbformat": 4,
 "nbformat_minor": 2
}
