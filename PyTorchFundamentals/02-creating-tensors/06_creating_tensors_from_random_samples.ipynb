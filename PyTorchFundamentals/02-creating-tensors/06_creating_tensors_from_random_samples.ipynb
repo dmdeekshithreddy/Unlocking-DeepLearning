{
 "cells": [
  {
   "cell_type": "code",
   "execution_count": 1,
   "metadata": {},
   "outputs": [],
   "source": [
    "# You can also create tensors of values sampled from\n",
    "# more advanced distributions, like Cauchy, exponential,\n",
    "# geometric, and log normal. To do so, use torch.empty()\n",
    "# to create the tensor and apply an in-place function for\n",
    "# the distribution (e.g., Cauchy). Remember, in-place\n",
    "# methods use the underscore postfix. For example,\n",
    "# x = torch.empty([10,5]).cauchy_() creates a tensor of\n",
    "# random numbers drawn from the Cauchy distribution."
   ]
  },
  {
   "cell_type": "code",
   "execution_count": null,
   "metadata": {},
   "outputs": [],
   "source": []
  }
 ],
 "metadata": {
  "kernelspec": {
   "display_name": "deeplearning",
   "language": "python",
   "name": "python3"
  },
  "language_info": {
   "codemirror_mode": {
    "name": "ipython",
    "version": 3
   },
   "file_extension": ".py",
   "mimetype": "text/x-python",
   "name": "python",
   "nbconvert_exporter": "python",
   "pygments_lexer": "ipython3",
   "version": "3.11.5"
  }
 },
 "nbformat": 4,
 "nbformat_minor": 2
}
