{
 "cells": [
  {
   "cell_type": "code",
   "execution_count": 1,
   "metadata": {},
   "outputs": [],
   "source": [
    "import numpy\n",
    "import torch"
   ]
  },
  {
   "cell_type": "code",
   "execution_count": 10,
   "metadata": {},
   "outputs": [],
   "source": [
    "device = torch.device(\"cuda\") if torch.cuda.is_available() else torch.device(\"cpu\")"
   ]
  },
  {
   "cell_type": "code",
   "execution_count": 6,
   "metadata": {},
   "outputs": [
    {
     "name": "stdout",
     "output_type": "stream",
     "text": [
      "tensor([1, 2, 3])\n",
      "tensor([4, 5, 6])\n",
      "tensor([10, 11, 12])\n"
     ]
    }
   ],
   "source": [
    "# Tensors can be created from preexisting data stored in\n",
    "# array-like structures such as lists, tuples, scalars, or serialized\n",
    "# data files, as well as in NumPy arrays.\n",
    "\n",
    "# Created from preexisting arrays\n",
    "x = torch.tensor([1,2,3])\n",
    "y = torch.tensor((4,5,6))\n",
    "z = torch.tensor(numpy.array([10,11,12]))\n",
    "\n",
    "print(x)\n",
    "print(y)\n",
    "print(z)"
   ]
  },
  {
   "cell_type": "code",
   "execution_count": 8,
   "metadata": {},
   "outputs": [
    {
     "name": "stdout",
     "output_type": "stream",
     "text": [
      "tensor([[3.9497e-41, 0.0000e+00, 0.0000e+00],\n",
      "        [0.0000e+00, 8.9683e-44, 0.0000e+00]])\n",
      "tensor([[0., 0., 0.],\n",
      "        [0., 0., 0.]])\n",
      "tensor([[1., 1., 1.],\n",
      "        [1., 1., 1.]])\n"
     ]
    }
   ],
   "source": [
    "# Initialized by size\n",
    "a = torch.empty(2, 3)\n",
    "b = torch.zeros(2, 3)\n",
    "c = torch.ones(2, 3)\n",
    "\n",
    "print(a)\n",
    "print(b)\n",
    "print(c)"
   ]
  },
  {
   "cell_type": "code",
   "execution_count": 15,
   "metadata": {},
   "outputs": [
    {
     "name": "stdout",
     "output_type": "stream",
     "text": [
      "tensor([[0.0632, 0.0729, 0.1340],\n",
      "        [0.5585, 0.1323, 0.7632]])\n",
      "tensor([[-1.0476, -0.7610, -0.3156],\n",
      "        [ 0.6731,  0.3520, -1.6593]])\n",
      "tensor([[6, 6, 5],\n",
      "        [5, 8, 8]])\n"
     ]
    }
   ],
   "source": [
    "# Initialized by size with random values\n",
    "d = torch.rand(2, 3) # Creates a 2 × 3 tensor with elements from a uniform distribution on the interval [0, 1).\n",
    "e = torch.randn(2, 3) # Elements are random numbers from a normal distribution with a mean of 0 and a variance of 1.\n",
    "f = torch.randint(low=5, high=10, size=(2,3)) # Elements are random integers between 5 and 10.\n",
    "\n",
    "print(d)\n",
    "print(e)\n",
    "print(f)"
   ]
  },
  {
   "cell_type": "code",
   "execution_count": 11,
   "metadata": {},
   "outputs": [
    {
     "name": "stdout",
     "output_type": "stream",
     "text": [
      "tensor([[0., 0., 0.],\n",
      "        [0., 0., 0.]], device='cuda:0', dtype=torch.float64)\n"
     ]
    }
   ],
   "source": [
    "# Initialized with specified data type or device\n",
    "g = torch.empty(size=(2,3), dtype=torch.float64, device=device)\n",
    "print(g)"
   ]
  },
  {
   "cell_type": "code",
   "execution_count": 14,
   "metadata": {},
   "outputs": [
    {
     "name": "stdout",
     "output_type": "stream",
     "text": [
      "tensor([[1., 1., 1.],\n",
      "        [1., 1., 1.]], device='cuda:0', dtype=torch.float64)\n"
     ]
    }
   ],
   "source": [
    "# Initialized to have the same size, data type,\n",
    "# and device as another tensor\n",
    "h = torch.ones_like(g)\n",
    "print(h)"
   ]
  },
  {
   "cell_type": "code",
   "execution_count": null,
   "metadata": {},
   "outputs": [],
   "source": []
  }
 ],
 "metadata": {
  "kernelspec": {
   "display_name": "deeplearning",
   "language": "python",
   "name": "python3"
  },
  "language_info": {
   "codemirror_mode": {
    "name": "ipython",
    "version": 3
   },
   "file_extension": ".py",
   "mimetype": "text/x-python",
   "name": "python",
   "nbconvert_exporter": "python",
   "pygments_lexer": "ipython3",
   "version": "3.11.5"
  }
 },
 "nbformat": 4,
 "nbformat_minor": 2
}
