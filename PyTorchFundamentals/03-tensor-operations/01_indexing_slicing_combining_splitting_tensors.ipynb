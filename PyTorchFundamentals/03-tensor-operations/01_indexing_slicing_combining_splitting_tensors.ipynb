{
 "cells": [
  {
   "cell_type": "code",
   "execution_count": 6,
   "metadata": {},
   "outputs": [],
   "source": [
    "import torch"
   ]
  },
  {
   "cell_type": "code",
   "execution_count": 7,
   "metadata": {},
   "outputs": [
    {
     "name": "stdout",
     "output_type": "stream",
     "text": [
      "tensor([[ 1,  2,  3],\n",
      "        [ 4,  5,  6],\n",
      "        [ 7,  8,  9],\n",
      "        [10, 11, 12]])\n",
      "torch.Size([4, 3])\n"
     ]
    }
   ],
   "source": [
    "x = torch.tensor([[1,2,3],[4,5,6],[7,8,9],[10,11,12]])\n",
    "print(x)\n",
    "print(x.shape)"
   ]
  },
  {
   "cell_type": "code",
   "execution_count": 8,
   "metadata": {},
   "outputs": [
    {
     "data": {
      "text/plain": [
       "tensor(5)"
      ]
     },
     "execution_count": 8,
     "metadata": {},
     "output_type": "execute_result"
    }
   ],
   "source": [
    "# Indexing, returns a tensor\n",
    "x[1,1]"
   ]
  },
  {
   "cell_type": "code",
   "execution_count": 9,
   "metadata": {},
   "outputs": [
    {
     "data": {
      "text/plain": [
       "5"
      ]
     },
     "execution_count": 9,
     "metadata": {},
     "output_type": "execute_result"
    }
   ],
   "source": [
    "# Indexing, returns a value as a Python number\n",
    "x[1,1].item()"
   ]
  },
  {
   "cell_type": "code",
   "execution_count": 12,
   "metadata": {},
   "outputs": [
    {
     "name": "stdout",
     "output_type": "stream",
     "text": [
      "tensor([1, 4])\n"
     ]
    }
   ],
   "source": [
    "# [start:end:step] format\n",
    "print(x[:2,0])"
   ]
  },
  {
   "cell_type": "code",
   "execution_count": 13,
   "metadata": {},
   "outputs": [
    {
     "name": "stdout",
     "output_type": "stream",
     "text": [
      "tensor([1, 2, 3, 4])\n"
     ]
    }
   ],
   "source": [
    "# Boolean indexing\n",
    "# Only keep elements less than 5\n",
    "print(x[x<5])"
   ]
  },
  {
   "cell_type": "code",
   "execution_count": 14,
   "metadata": {},
   "outputs": [
    {
     "name": "stdout",
     "output_type": "stream",
     "text": [
      "tensor([[ 1,  4,  7, 10],\n",
      "        [ 2,  5,  8, 11],\n",
      "        [ 3,  6,  9, 12]])\n"
     ]
    }
   ],
   "source": [
    "# Transpose array; x.t() or x.T can be used\n",
    "print(x.t())"
   ]
  },
  {
   "cell_type": "code",
   "execution_count": 15,
   "metadata": {},
   "outputs": [
    {
     "name": "stdout",
     "output_type": "stream",
     "text": [
      "tensor([[ 1,  2,  3,  4],\n",
      "        [ 5,  6,  7,  8],\n",
      "        [ 9, 10, 11, 12]])\n"
     ]
    }
   ],
   "source": [
    "# Change shape; usually view() is preferred over\n",
    "# reshape()\n",
    "print(x.view(3,4))"
   ]
  },
  {
   "cell_type": "code",
   "execution_count": 18,
   "metadata": {},
   "outputs": [
    {
     "name": "stdout",
     "output_type": "stream",
     "text": [
      "tensor([[[ 1,  2,  3],\n",
      "         [ 4,  5,  6],\n",
      "         [ 7,  8,  9],\n",
      "         [10, 11, 12]],\n",
      "\n",
      "        [[ 1,  2,  3],\n",
      "         [ 4,  5,  6],\n",
      "         [ 7,  8,  9],\n",
      "         [10, 11, 12]]])\n",
      "tensor([ 1,  4,  7, 10])\n",
      "tensor([ 2,  5,  8, 11])\n",
      "tensor([ 3,  6,  9, 12])\n"
     ]
    }
   ],
   "source": [
    "# combine or split tensors by using functions like\n",
    "# torch.stack() and torch.unbind(), respectively\n",
    "\n",
    "# Combining tensors\n",
    "y = torch.stack((x, x))\n",
    "print(y)\n",
    "\n",
    "# Splitting tensors\n",
    "a, b, c = torch.unbind(x, dim=1)\n",
    "print(a)\n",
    "print(b)\n",
    "print(c)"
   ]
  },
  {
   "cell_type": "code",
   "execution_count": 19,
   "metadata": {},
   "outputs": [],
   "source": [
    "# item() is an important and commonly used function to\n",
    "# return the Python number from a tensor containing a single\n",
    "# value.\n",
    "\n",
    "# • Use view() instead of reshape() for reshaping tensors in\n",
    "# most cases. Using reshape() may cause the tensor to be\n",
    "# copied, depending on its layout in memory. view()\n",
    "# ensures that it will not be copied.\n",
    "\n",
    "# • Using x.T or x.t() is a simple way to transpose 1D or 2D\n",
    "# tensors. Use transpose() when dealing with multidimensional\n",
    "# tensors.\n",
    "\n",
    "# • The torch.squeeze() function is used often in deep learning\n",
    "# to remove an unused dimension. For example, a batch\n",
    "# of images with a single image can be reduced from 4D to\n",
    "# 3D using squeeze().\n",
    "\n",
    "# • The torch.unsqueeze() function is often used in deep\n",
    "# learning to add a dimension of size 1. Since most PyTorch\n",
    "# models expect a batch of data as an input, you could apply\n",
    "# unsqueeze() when you only have one data sample. For\n",
    "# example, you can pass a 3D image into torch.unsqueeze()\n",
    "# to create a batch of one image."
   ]
  },
  {
   "cell_type": "code",
   "execution_count": null,
   "metadata": {},
   "outputs": [],
   "source": []
  },
  {
   "cell_type": "code",
   "execution_count": null,
   "metadata": {},
   "outputs": [],
   "source": []
  },
  {
   "cell_type": "code",
   "execution_count": null,
   "metadata": {},
   "outputs": [],
   "source": []
  }
 ],
 "metadata": {
  "kernelspec": {
   "display_name": "deeplearning",
   "language": "python",
   "name": "python3"
  },
  "language_info": {
   "codemirror_mode": {
    "name": "ipython",
    "version": 3
   },
   "file_extension": ".py",
   "mimetype": "text/x-python",
   "name": "python",
   "nbconvert_exporter": "python",
   "pygments_lexer": "ipython3",
   "version": "3.11.5"
  }
 },
 "nbformat": 4,
 "nbformat_minor": 2
}
