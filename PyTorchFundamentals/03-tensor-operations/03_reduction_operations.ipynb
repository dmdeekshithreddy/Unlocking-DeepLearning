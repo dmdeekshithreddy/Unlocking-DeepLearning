{
 "cells": [
  {
   "cell_type": "code",
   "execution_count": null,
   "metadata": {},
   "outputs": [],
   "source": [
    "import torch"
   ]
  },
  {
   "cell_type": "code",
   "execution_count": 1,
   "metadata": {},
   "outputs": [],
   "source": [
    "# Reduction operations reduce a bunch of numbers\n",
    "# down to a single number or a smaller set of numbers. \n",
    "# That is, they reduce the dimensionality or rank of the tensor. \n",
    "\n",
    "# Reduction operations include functions for finding maximum or\n",
    "# minimum values as well as many statistical calculations, like\n",
    "# finding the mean or standard deviation."
   ]
  },
  {
   "cell_type": "code",
   "execution_count": null,
   "metadata": {},
   "outputs": [],
   "source": [
    "torch.argmax(input, dim, keepdim=False, out=None)\n",
    "        # Returns the index(es) of the maximum\n",
    "        # value across all elements, or just a\n",
    "        # dimension if it’s specified\n",
    "\n",
    "torch.argmin(input, dim, keepdim=False, out=None)\n",
    "    # Returns the index(es) of the minimum\n",
    "    # value across all elements, or just a\n",
    "    # dimension if it’s specified\n",
    "\n",
    "torch.dist(input, dim, keepdim=False, out=None)\n",
    "    # Computes the p-norm of two tensors"
   ]
  }
 ],
 "metadata": {
  "kernelspec": {
   "display_name": "deeplearning",
   "language": "python",
   "name": "python3"
  },
  "language_info": {
   "codemirror_mode": {
    "name": "ipython",
    "version": 3
   },
   "file_extension": ".py",
   "mimetype": "text/x-python",
   "name": "python",
   "nbconvert_exporter": "python",
   "pygments_lexer": "ipython3",
   "version": "3.11.5"
  }
 },
 "nbformat": 4,
 "nbformat_minor": 2
}
