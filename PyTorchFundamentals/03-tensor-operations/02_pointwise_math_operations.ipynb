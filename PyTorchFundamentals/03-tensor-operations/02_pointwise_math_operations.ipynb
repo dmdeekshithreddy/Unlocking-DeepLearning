{
 "cells": [
  {
   "cell_type": "code",
   "execution_count": 1,
   "metadata": {},
   "outputs": [],
   "source": [
    "import torch"
   ]
  },
  {
   "cell_type": "code",
   "execution_count": 2,
   "metadata": {},
   "outputs": [],
   "source": [
    "# Pointwise operations\n",
    "# Basic math:          \n",
    "#         add(), div(), mul(), neg(), reciprocal(), true_divide()\n",
    "\n",
    "# Truncation:          \n",
    "#         ceil(), clamp(), floor(), floor_divide(), fmod(), frac(), lerp(), \n",
    "#         remainder(), round(), sigmoid(), trunc()\n",
    "\n",
    "# Complex numbers:\n",
    "#         abs(), angle(), conj(), imag(), real()\n",
    "#         Trigonometry acos(), asin(), atan(), cos(), cosh(),\n",
    "#         deg2rad(), rad2deg(), sin(), sinh(), tan(),\n",
    "#         tanh()\n",
    "\n",
    "# Exponents and logarithms:\n",
    "#         exp(), expm1(), log(), log10(), log1p(), log2(),\n",
    "#         logaddexp(), pow(), rsqrt(), sqrt(), square()\n",
    "\n",
    "# Logical:\n",
    "#         logical_and(), logical_not(), logical_or(),\n",
    "#         logical_xor()\n",
    "\n",
    "# Cumulative math:\n",
    "#         addcdiv(), addcmul()\n",
    "\n",
    "# Bitwise operators:\n",
    "#         bitwise_not(), bitwise_and(), bitwise_or(), bitwise_xor()\n",
    "\n",
    "# Error functions: \n",
    "#         erf(), erfc(), erfinv()\n",
    "\n",
    "# Gamma functions:\n",
    "#         digamma(), lgamma(), mvlgamma(), polygamma()"
   ]
  },
  {
   "cell_type": "code",
   "execution_count": null,
   "metadata": {},
   "outputs": [],
   "source": [
    "# Three different syntaxes can be used for most tensor operations.\n",
    "# Tensors support operator overloading, so you can\n",
    "# use operators directly, as in z = x + y. Although you can\n",
    "# also use PyTorch functions such as torch.add() to do the\n",
    "# same thing, this is less common. Lastly, you can perform\n",
    "# in-place operations using the underscore (_) postfix. The\n",
    "# function y.add_(x) achieves the same results, but they’ll’\n",
    "# be stored in y."
   ]
  }
 ],
 "metadata": {
  "kernelspec": {
   "display_name": "deeplearning",
   "language": "python",
   "name": "python3"
  },
  "language_info": {
   "codemirror_mode": {
    "name": "ipython",
    "version": 3
   },
   "file_extension": ".py",
   "mimetype": "text/x-python",
   "name": "python",
   "nbconvert_exporter": "python",
   "pygments_lexer": "ipython3",
   "version": "3.11.5"
  }
 },
 "nbformat": 4,
 "nbformat_minor": 2
}
